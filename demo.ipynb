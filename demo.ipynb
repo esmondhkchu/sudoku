{
 "cells": [
  {
   "cell_type": "code",
   "execution_count": 1,
   "metadata": {
    "ExecuteTime": {
     "end_time": "2020-06-16T08:45:02.985064Z",
     "start_time": "2020-06-16T08:45:02.265554Z"
    }
   },
   "outputs": [],
   "source": [
    "from sudoku import *"
   ]
  },
  {
   "cell_type": "code",
   "execution_count": 2,
   "metadata": {
    "ExecuteTime": {
     "end_time": "2020-06-16T08:45:04.591651Z",
     "start_time": "2020-06-16T08:45:04.535458Z"
    }
   },
   "outputs": [
    {
     "name": "stdout",
     "output_type": "stream",
     "text": [
      "Generated Board: \n",
      "\n",
      "[1 6 4 2 8 9 5 3 7]\n",
      "[7 8 9 3 6 5 1 2 4]\n",
      "[5 3 2 4 1 7 6 9 8]\n",
      "[2 1 3 5 4 8 7 6 9]\n",
      "[4 5 6 9 7 1 2 8 3]\n",
      "[8 9 7 6 3 2 4 1 5]\n",
      "[3 2 1 8 5 4 9 7 6]\n",
      "[6 7 5 1 9 3 8 4 2]\n",
      "[9 4 8 7 2 6 3 5 1]\n"
     ]
    }
   ],
   "source": [
    "board = generate_board()\n",
    "print('Generated Board: \\n')\n",
    "for i in board:\n",
    "    print(i)"
   ]
  },
  {
   "cell_type": "code",
   "execution_count": 3,
   "metadata": {
    "ExecuteTime": {
     "end_time": "2020-06-16T08:45:11.744279Z",
     "start_time": "2020-06-16T08:45:11.736068Z"
    }
   },
   "outputs": [
    {
     "name": "stdout",
     "output_type": "stream",
     "text": [
      "Unsolved Board (empty box: 60): \n",
      "\n",
      "[1 0 0 2 8 0 0 0 0]\n",
      "[0 0 0 3 0 5 0 0 4]\n",
      "[0 3 0 4 1 7 0 9 0]\n",
      "[2 1 3 0 4 8 0 0 0]\n",
      "[0 5 0 0 0 0 0 8 0]\n",
      "[8 0 7 0 0 2 4 1 0]\n",
      "[3 0 1 8 0 0 0 7 0]\n",
      "[0 0 0 1 0 0 0 0 0]\n",
      "[0 4 8 0 0 6 0 0 0]\n"
     ]
    }
   ],
   "source": [
    "unsolved = drop_values(board, 50)\n",
    "print('Unsolved Board (empty box: 60): \\n')\n",
    "for i in unsolved:\n",
    "    print(i)"
   ]
  },
  {
   "cell_type": "code",
   "execution_count": 4,
   "metadata": {
    "ExecuteTime": {
     "end_time": "2020-06-16T08:45:14.531173Z",
     "start_time": "2020-06-16T08:45:14.481014Z"
    }
   },
   "outputs": [
    {
     "name": "stdout",
     "output_type": "stream",
     "text": [
      "Solved\n",
      "Solved Board: \n",
      "\n",
      "[1 6 4 2 8 9 3 5 7]\n",
      "[7 8 9 3 6 5 1 2 4]\n",
      "[5 3 2 4 1 7 6 9 8]\n",
      "[2 1 3 5 4 8 7 6 9]\n",
      "[4 5 6 9 7 1 2 8 3]\n",
      "[8 9 7 6 3 2 4 1 5]\n",
      "[3 2 1 8 5 4 9 7 6]\n",
      "[6 7 5 1 9 3 8 4 2]\n",
      "[9 4 8 7 2 6 5 3 1]\n"
     ]
    }
   ],
   "source": [
    "solved = solver(unsolved)\n",
    "print('Solved Board: \\n')\n",
    "for i in solved:\n",
    "    print(i)"
   ]
  }
 ],
 "metadata": {
  "kernelspec": {
   "display_name": "Python 3",
   "language": "python",
   "name": "python3"
  },
  "language_info": {
   "codemirror_mode": {
    "name": "ipython",
    "version": 3
   },
   "file_extension": ".py",
   "mimetype": "text/x-python",
   "name": "python",
   "nbconvert_exporter": "python",
   "pygments_lexer": "ipython3",
   "version": "3.7.2"
  },
  "toc": {
   "base_numbering": 1,
   "nav_menu": {},
   "number_sections": true,
   "sideBar": true,
   "skip_h1_title": false,
   "title_cell": "Table of Contents",
   "title_sidebar": "Contents",
   "toc_cell": false,
   "toc_position": {},
   "toc_section_display": true,
   "toc_window_display": false
  }
 },
 "nbformat": 4,
 "nbformat_minor": 2
}
