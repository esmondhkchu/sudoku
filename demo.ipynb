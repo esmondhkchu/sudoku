{
 "cells": [
  {
   "cell_type": "code",
   "execution_count": 1,
   "metadata": {
    "ExecuteTime": {
     "end_time": "2020-06-16T09:56:55.652237Z",
     "start_time": "2020-06-16T09:56:55.494708Z"
    }
   },
   "outputs": [],
   "source": [
    "from sudoku import *"
   ]
  },
  {
   "cell_type": "code",
   "execution_count": 2,
   "metadata": {
    "ExecuteTime": {
     "end_time": "2020-06-16T08:45:04.591651Z",
     "start_time": "2020-06-16T08:45:04.535458Z"
    }
   },
   "outputs": [
    {
     "name": "stdout",
     "output_type": "stream",
     "text": [
      "Generated Board: \n",
      "\n",
      "[1 6 4 2 8 9 5 3 7]\n",
      "[7 8 9 3 6 5 1 2 4]\n",
      "[5 3 2 4 1 7 6 9 8]\n",
      "[2 1 3 5 4 8 7 6 9]\n",
      "[4 5 6 9 7 1 2 8 3]\n",
      "[8 9 7 6 3 2 4 1 5]\n",
      "[3 2 1 8 5 4 9 7 6]\n",
      "[6 7 5 1 9 3 8 4 2]\n",
      "[9 4 8 7 2 6 3 5 1]\n"
     ]
    }
   ],
   "source": [
    "board = generate_board()\n",
    "print('Generated Board: \\n')\n",
    "for i in board:\n",
    "    print(i)"
   ]
  },
  {
   "cell_type": "code",
   "execution_count": 3,
   "metadata": {
    "ExecuteTime": {
     "end_time": "2020-06-16T08:45:11.744279Z",
     "start_time": "2020-06-16T08:45:11.736068Z"
    }
   },
   "outputs": [
    {
     "name": "stdout",
     "output_type": "stream",
     "text": [
      "Unsolved Board (empty box: 60): \n",
      "\n",
      "[1 0 0 2 8 0 0 0 0]\n",
      "[0 0 0 3 0 5 0 0 4]\n",
      "[0 3 0 4 1 7 0 9 0]\n",
      "[2 1 3 0 4 8 0 0 0]\n",
      "[0 5 0 0 0 0 0 8 0]\n",
      "[8 0 7 0 0 2 4 1 0]\n",
      "[3 0 1 8 0 0 0 7 0]\n",
      "[0 0 0 1 0 0 0 0 0]\n",
      "[0 4 8 0 0 6 0 0 0]\n"
     ]
    }
   ],
   "source": [
    "unsolved = drop_values(board, 50)\n",
    "print('Unsolved Board (empty box: 60): \\n')\n",
    "for i in unsolved:\n",
    "    print(i)"
   ]
  },
  {
   "cell_type": "code",
   "execution_count": 4,
   "metadata": {
    "ExecuteTime": {
     "end_time": "2020-06-16T08:45:14.531173Z",
     "start_time": "2020-06-16T08:45:14.481014Z"
    }
   },
   "outputs": [
    {
     "name": "stdout",
     "output_type": "stream",
     "text": [
      "Solved\n",
      "Solved Board: \n",
      "\n",
      "[1 6 4 2 8 9 3 5 7]\n",
      "[7 8 9 3 6 5 1 2 4]\n",
      "[5 3 2 4 1 7 6 9 8]\n",
      "[2 1 3 5 4 8 7 6 9]\n",
      "[4 5 6 9 7 1 2 8 3]\n",
      "[8 9 7 6 3 2 4 1 5]\n",
      "[3 2 1 8 5 4 9 7 6]\n",
      "[6 7 5 1 9 3 8 4 2]\n",
      "[9 4 8 7 2 6 5 3 1]\n"
     ]
    }
   ],
   "source": [
    "solved = solver(unsolved)\n",
    "print('Solved Board: \\n')\n",
    "for i in solved:\n",
    "    print(i)"
   ]
  },
  {
   "cell_type": "code",
   "execution_count": 1,
   "metadata": {
    "ExecuteTime": {
     "end_time": "2020-06-16T10:04:12.873880Z",
     "start_time": "2020-06-16T10:04:12.726369Z"
    }
   },
   "outputs": [],
   "source": [
    "from sudoku import *"
   ]
  },
  {
   "cell_type": "code",
   "execution_count": 2,
   "metadata": {
    "ExecuteTime": {
     "end_time": "2020-06-16T10:04:12.879022Z",
     "start_time": "2020-06-16T10:04:12.876182Z"
    }
   },
   "outputs": [],
   "source": [
    "import numpy as np"
   ]
  },
  {
   "cell_type": "code",
   "execution_count": 3,
   "metadata": {
    "ExecuteTime": {
     "end_time": "2020-06-16T10:04:12.890917Z",
     "start_time": "2020-06-16T10:04:12.883184Z"
    }
   },
   "outputs": [],
   "source": [
    "board = np.array(\n",
    "[[0,0,1,9,0,0,0,6,0],\n",
    "[8,0,0,4,0,0,0,0,2],\n",
    "[0,6,0,0,8,2,0,0,0],\n",
    "[0,0,0,7,0,0,0,0,5],\n",
    "[0,8,0,1,0,0,0,0,9],\n",
    "[0,0,7,0,3,0,4,0,0],\n",
    "[0,5,0,0,0,0,0,0,0],\n",
    "[7,0,0,0,8,0,3,0,0],\n",
    "[1,0,0,0,5,6,2,0,0]])"
   ]
  },
  {
   "cell_type": "code",
   "execution_count": 5,
   "metadata": {
    "ExecuteTime": {
     "end_time": "2020-06-16T10:05:07.258608Z",
     "start_time": "2020-06-16T10:05:07.255912Z"
    }
   },
   "outputs": [],
   "source": [
    "# solver(board)"
   ]
  },
  {
   "cell_type": "code",
   "execution_count": 28,
   "metadata": {
    "ExecuteTime": {
     "end_time": "2020-06-16T10:10:32.225340Z",
     "start_time": "2020-06-16T10:10:32.217941Z"
    }
   },
   "outputs": [],
   "source": [
    "grid =[[3, 0, 6, 5, 0, 8, 4, 0, 0], \n",
    "      [5, 2, 0, 0, 0, 0, 0, 0, 0], \n",
    "      [0, 8, 7, 0, 0, 0, 0, 3, 1], \n",
    "      [0, 0, 3, 0, 1, 0, 0, 8, 0], \n",
    "      [9, 0, 0, 8, 6, 3, 0, 0, 5], \n",
    "      [0, 5, 0, 0, 9, 0, 6, 0, 0], \n",
    "      [1, 3, 0, 0, 0, 0, 2, 5, 0], \n",
    "      [0, 0, 0, 0, 0, 0, 0, 7, 4], \n",
    "      [0, 0, 5, 2, 0, 6, 3, 0, 0]] "
   ]
  },
  {
   "cell_type": "code",
   "execution_count": 20,
   "metadata": {
    "ExecuteTime": {
     "end_time": "2020-06-16T10:08:50.195584Z",
     "start_time": "2020-06-16T10:08:50.188142Z"
    }
   },
   "outputs": [],
   "source": [
    "board = np.array(\n",
    "[[0,0,1,9,0,0,0,6,0],\n",
    "[8,0,0,4,0,0,0,0,2],\n",
    "[0,6,0,0,8,2,0,0,0],\n",
    "[0,0,0,7,0,0,0,0,5],\n",
    "[0,8,0,1,0,0,0,0,9],\n",
    "[0,0,7,0,3,0,4,0,0],\n",
    "[0,5,0,0,0,0,0,0,0],\n",
    "[7,0,0,0,8,0,3,0,0],\n",
    "[1,0,0,0,5,6,2,0,0]])"
   ]
  },
  {
   "cell_type": "code",
   "execution_count": 34,
   "metadata": {
    "ExecuteTime": {
     "end_time": "2020-06-16T10:12:06.498009Z",
     "start_time": "2020-06-16T10:12:06.492687Z"
    }
   },
   "outputs": [
    {
     "data": {
      "text/plain": [
       "[[3, 0, 6, 5, 0, 8, 4, 0, 0],\n",
       " [5, 2, 0, 0, 0, 0, 0, 0, 0],\n",
       " [0, 8, 7, 0, 0, 0, 0, 3, 1],\n",
       " [0, 0, 3, 0, 1, 0, 0, 8, 0],\n",
       " [9, 0, 0, 8, 6, 3, 0, 0, 5],\n",
       " [0, 5, 0, 0, 9, 0, 6, 0, 0],\n",
       " [1, 3, 0, 0, 0, 0, 2, 5, 0],\n",
       " [0, 0, 0, 0, 0, 0, 0, 7, 4],\n",
       " [0, 0, 5, 2, 0, 6, 3, 0, 0]]"
      ]
     },
     "execution_count": 34,
     "metadata": {},
     "output_type": "execute_result"
    }
   ],
   "source": [
    "grid"
   ]
  },
  {
   "cell_type": "code",
   "execution_count": 37,
   "metadata": {
    "ExecuteTime": {
     "end_time": "2020-06-16T10:15:12.545564Z",
     "start_time": "2020-06-16T10:15:11.879093Z"
    }
   },
   "outputs": [
    {
     "name": "stdout",
     "output_type": "stream",
     "text": [
      "Solved\n"
     ]
    }
   ],
   "source": [
    "solved = solver(np.array(grid))"
   ]
  },
  {
   "cell_type": "code",
   "execution_count": 39,
   "metadata": {
    "ExecuteTime": {
     "end_time": "2020-06-16T10:15:32.432950Z",
     "start_time": "2020-06-16T10:15:32.428227Z"
    }
   },
   "outputs": [
    {
     "name": "stdout",
     "output_type": "stream",
     "text": [
      "[3 1 6 5 7 8 4 9 2]\n",
      "[5 2 9 1 3 4 7 6 8]\n",
      "[4 8 7 6 2 9 5 3 1]\n",
      "[2 6 3 4 1 5 9 8 7]\n",
      "[9 7 4 8 6 3 1 2 5]\n",
      "[8 5 1 7 9 2 6 4 3]\n",
      "[1 3 8 9 4 7 2 5 6]\n",
      "[6 9 2 3 5 1 8 7 4]\n",
      "[7 4 5 2 8 6 3 1 9]\n"
     ]
    }
   ],
   "source": [
    "for i in solved:\n",
    "    print(i)"
   ]
  },
  {
   "cell_type": "code",
   "execution_count": null,
   "metadata": {},
   "outputs": [],
   "source": []
  }
 ],
 "metadata": {
  "kernelspec": {
   "display_name": "Python 3",
   "language": "python",
   "name": "python3"
  },
  "language_info": {
   "codemirror_mode": {
    "name": "ipython",
    "version": 3
   },
   "file_extension": ".py",
   "mimetype": "text/x-python",
   "name": "python",
   "nbconvert_exporter": "python",
   "pygments_lexer": "ipython3",
   "version": "3.7.2"
  },
  "toc": {
   "base_numbering": 1,
   "nav_menu": {},
   "number_sections": true,
   "sideBar": true,
   "skip_h1_title": false,
   "title_cell": "Table of Contents",
   "title_sidebar": "Contents",
   "toc_cell": false,
   "toc_position": {},
   "toc_section_display": true,
   "toc_window_display": false
  }
 },
 "nbformat": 4,
 "nbformat_minor": 2
}
