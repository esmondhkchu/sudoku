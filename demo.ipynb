{
 "cells": [
  {
   "cell_type": "code",
   "execution_count": 1,
   "metadata": {
    "ExecuteTime": {
     "end_time": "2020-06-16T07:41:30.165756Z",
     "start_time": "2020-06-16T07:41:29.443494Z"
    }
   },
   "outputs": [],
   "source": [
    "from sudoku import *"
   ]
  },
  {
   "cell_type": "code",
   "execution_count": 25,
   "metadata": {
    "ExecuteTime": {
     "end_time": "2020-06-16T07:46:39.359103Z",
     "start_time": "2020-06-16T07:46:39.325392Z"
    }
   },
   "outputs": [
    {
     "name": "stdout",
     "output_type": "stream",
     "text": [
      "Generated Board: \n",
      "\n",
      "[1 3 2 4 5 7 6 8 9]\n",
      "[4 5 6 1 9 8 2 3 7]\n",
      "[7 8 9 6 2 3 1 4 5]\n",
      "[5 2 4 3 8 6 9 7 1]\n",
      "[3 1 7 9 4 2 5 6 8]\n",
      "[6 9 8 5 7 1 4 2 3]\n",
      "[2 4 1 7 3 9 8 5 6]\n",
      "[9 7 5 8 6 4 3 1 2]\n",
      "[8 6 3 2 1 5 7 9 4]\n"
     ]
    }
   ],
   "source": [
    "board = generate_board()\n",
    "print('Generated Board: \\n')\n",
    "for i in board:\n",
    "    print(i)"
   ]
  },
  {
   "cell_type": "code",
   "execution_count": 31,
   "metadata": {
    "ExecuteTime": {
     "end_time": "2020-06-16T07:48:50.433730Z",
     "start_time": "2020-06-16T07:48:50.422960Z"
    }
   },
   "outputs": [
    {
     "name": "stdout",
     "output_type": "stream",
     "text": [
      "Unsolved Board (empty box: 60): \n",
      "\n",
      "[0 0 2 4 5 0 6 0 0]\n",
      "[0 0 0 0 9 0 0 0 0]\n",
      "[0 0 0 0 0 3 0 4 0]\n",
      "[0 0 4 3 0 0 0 0 0]\n",
      "[0 0 0 0 0 0 5 0 0]\n",
      "[0 0 8 5 0 0 0 0 3]\n",
      "[0 0 0 0 0 9 0 0 0]\n",
      "[0 0 0 0 0 0 3 0 2]\n",
      "[0 6 3 0 0 5 0 9 4]\n"
     ]
    }
   ],
   "source": [
    "unsolved = drop_values(board, 60)\n",
    "print('Unsolved Board (empty box: 60): \\n')\n",
    "for i in unsolved:\n",
    "    print(i)"
   ]
  },
  {
   "cell_type": "code",
   "execution_count": 32,
   "metadata": {
    "ExecuteTime": {
     "end_time": "2020-06-16T07:48:56.428134Z",
     "start_time": "2020-06-16T07:48:54.567770Z"
    }
   },
   "outputs": [
    {
     "name": "stdout",
     "output_type": "stream",
     "text": [
      "Solved\n",
      "Solved Board: \n",
      "\n",
      "[1 3 2 4 5 7 6 8 9]\n",
      "[4 5 6 1 9 8 2 3 7]\n",
      "[7 8 9 6 2 3 1 4 5]\n",
      "[5 1 4 3 6 2 9 7 8]\n",
      "[3 2 7 9 8 4 5 1 6]\n",
      "[6 9 8 5 7 1 4 2 3]\n",
      "[2 4 5 7 3 9 8 6 1]\n",
      "[9 7 1 8 4 6 3 5 2]\n",
      "[8 6 3 2 1 5 7 9 4]\n"
     ]
    }
   ],
   "source": [
    "solved = solver(unsolved)\n",
    "print('Solved Board: \\n')\n",
    "for i in solved:\n",
    "    print(i)"
   ]
  }
 ],
 "metadata": {
  "kernelspec": {
   "display_name": "Python 3",
   "language": "python",
   "name": "python3"
  },
  "language_info": {
   "codemirror_mode": {
    "name": "ipython",
    "version": 3
   },
   "file_extension": ".py",
   "mimetype": "text/x-python",
   "name": "python",
   "nbconvert_exporter": "python",
   "pygments_lexer": "ipython3",
   "version": "3.7.3"
  },
  "toc": {
   "base_numbering": 1,
   "nav_menu": {},
   "number_sections": true,
   "sideBar": true,
   "skip_h1_title": false,
   "title_cell": "Table of Contents",
   "title_sidebar": "Contents",
   "toc_cell": false,
   "toc_position": {},
   "toc_section_display": true,
   "toc_window_display": false
  }
 },
 "nbformat": 4,
 "nbformat_minor": 2
}
